{
 "cells": [
  {
   "cell_type": "markdown",
   "metadata": {},
   "source": [
    "Dataset used\n",
    "I have collected data from TrashNet, which includes images of various trash items labelled trash (these are not recyclable), then there are multiple classes of recyclable trash such as paper, cardboard, glass, metal and plastic\n",
    "\n",
    "1211 images are there for the training set and 508 images for the test set\n",
    "\n",
    "Images are pre-labelled\n"
   ]
  },
  {
   "cell_type": "code",
   "execution_count": 26,
   "metadata": {},
   "outputs": [],
   "source": [
    "import tensorflow as tf\n",
    "from tensorflow.keras.models import Sequential\n",
    "from tensorflow.keras.layers import Conv2D, MaxPooling2D, Flatten, Dense, Dropout\n",
    "from tensorflow.keras.preprocessing.image import ImageDataGenerator\n",
    "import matplotlib.pyplot as plt"
   ]
  },
  {
   "cell_type": "code",
   "execution_count": 10,
   "metadata": {},
   "outputs": [
    {
     "name": "stdout",
     "output_type": "stream",
     "text": [
      "Class Cardboard mapped to cardboard: 368 training, 93 validation\n",
      "Class Food Organics mapped to trash: 328 training, 83 validation\n",
      "Class Glass mapped to glass: 336 training, 84 validation\n",
      "Class Metal mapped to metal: 632 training, 158 validation\n",
      "Class Miscellaneous Trash mapped to trash: 396 training, 99 validation\n",
      "Class Paper mapped to paper: 400 training, 100 validation\n",
      "Class Plastic mapped to plastic: 736 training, 185 validation\n",
      "Skipping Textile Trash (ignored)\n",
      "Skipping Vegetation (ignored)\n",
      "Dataset splitting and mapping completed!\n"
     ]
    }
   ],
   "source": [
    "import os\n",
    "import shutil\n",
    "import pandas as pd\n",
    "import numpy as np\n",
    "from sklearn.model_selection import train_test_split\n",
    "\n",
    "def create_splits(data_dir, output_dir, val_size=0.20):\n",
    "    # Define class mapping for unifying class names\n",
    "    class_mapping = {\n",
    "        \"cardboard\": \"cardboard\",  \n",
    "        \"Cardboard\": \"cardboard\",  \n",
    "        \"Glass\": \"glass\",\n",
    "        \"glass\": \"glass\",\n",
    "        \"Metal\": \"metal\",\n",
    "        \"metal\": \"metal\",\n",
    "        \"paper\": \"paper\",\n",
    "        \"Paper\": \"paper\",\n",
    "        \"plastic\": \"plastic\",\n",
    "        \"Plastic\": \"plastic\",\n",
    "        \"trash\": \"trash\",\n",
    "        \"Food Organics\": \"trash\",\n",
    "        \"Miscellaneous Trash\": \"trash\",\n",
    "    }\n",
    "\n",
    "    # Folders to ignore\n",
    "    ignored_folders = {\"Textile Trash\", \"Vegetation\"}\n",
    "\n",
    "    # Create directories for train and validation sets\n",
    "    train_dir = os.path.join(output_dir, 'train')\n",
    "    val_dir = os.path.join(output_dir, 'val')\n",
    "\n",
    "    for d in [train_dir, val_dir]:\n",
    "        os.makedirs(d, exist_ok=True)\n",
    "\n",
    "    # Data storage for CSV logging\n",
    "    records = []\n",
    "\n",
    "    # Process each class directory\n",
    "    for class_name in os.listdir(data_dir):\n",
    "        if class_name in ignored_folders:\n",
    "            print(f\"Skipping {class_name} (ignored)\")\n",
    "            continue  # Skip ignored folders\n",
    "\n",
    "        class_dir = os.path.join(data_dir, class_name)\n",
    "        if not os.path.isdir(class_dir):\n",
    "            continue\n",
    "        \n",
    "        # Map class name (default to original if no mapping exists)\n",
    "        mapped_class = class_mapping.get(class_name, class_name)\n",
    "\n",
    "        # Create mapped class directories in train & val\n",
    "        for d in [train_dir, val_dir]:\n",
    "            class_dir_out = os.path.join(d, mapped_class)\n",
    "            os.makedirs(class_dir_out, exist_ok=True)\n",
    "\n",
    "        # Get all images and split them\n",
    "        images = [os.path.join(class_dir, img) for img in os.listdir(class_dir) if img.endswith(('png', 'jpg', 'jpeg'))]\n",
    "        train_images, val_images = train_test_split(images, test_size=val_size, random_state=42)\n",
    "        \n",
    "        print(f\"Class {class_name} mapped to {mapped_class}: {len(train_images)} training, {len(val_images)} validation\")\n",
    "\n",
    "        # Function to copy images to the respective directories\n",
    "        def copy_images(image_list, output_dir, split_type):\n",
    "            for image in image_list:\n",
    "                dest = os.path.join(output_dir, mapped_class, os.path.basename(image))\n",
    "                shutil.copy(image, dest)\n",
    "                records.append((os.path.basename(image), class_name, mapped_class, split_type))  # Save mapping data\n",
    "\n",
    "        # Copy images to their respective directories and log them\n",
    "        copy_images(train_images, train_dir, \"train\")\n",
    "        copy_images(val_images, val_dir, \"val\")\n",
    "\n",
    "    # Save mapping information to CSV\n",
    "    df = pd.DataFrame(records, columns=['filename', 'original_class', 'mapped_class', 'split_type'])\n",
    "    df.to_csv(os.path.join(output_dir, 'class_mapping.csv'), index=False)\n",
    "\n",
    "    print(\"Dataset splitting and mapping completed!\")\n",
    "\n",
    "# Set the paths\n",
    "original_data_dir = '../data/realwaste-main/RealWaste'\n",
    "output_data_dir = '../data/dataset_split'\n",
    "\n",
    "# Create splits\n",
    "create_splits(original_data_dir, output_data_dir)\n"
   ]
  },
  {
   "cell_type": "code",
   "execution_count": null,
   "metadata": {},
   "outputs": [],
   "source": []
  }
 ],
 "metadata": {
  "kernelspec": {
   "display_name": "mlp",
   "language": "python",
   "name": "python3"
  },
  "language_info": {
   "codemirror_mode": {
    "name": "ipython",
    "version": 3
   },
   "file_extension": ".py",
   "mimetype": "text/x-python",
   "name": "python",
   "nbconvert_exporter": "python",
   "pygments_lexer": "ipython3",
   "version": "3.12.5"
  }
 },
 "nbformat": 4,
 "nbformat_minor": 2
}
