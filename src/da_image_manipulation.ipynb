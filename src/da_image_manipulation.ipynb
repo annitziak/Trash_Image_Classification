{
 "cells": [
  {
   "cell_type": "markdown",
   "metadata": {},
   "source": [
    "# Data Augemntation - Image Manipulation \n",
    "1. Geometric Transformations (Rotations, Translation, Shearing, Flipping)\n",
    "2. Non- Geometric Transformations (Cropping, Noise injection, Color Space, Jitter, Kernel)"
   ]
  },
  {
   "cell_type": "code",
   "execution_count": null,
   "metadata": {},
   "outputs": [],
   "source": []
  }
 ],
 "metadata": {
  "language_info": {
   "name": "python"
  }
 },
 "nbformat": 4,
 "nbformat_minor": 2
}
